{
 "cells": [
  {
   "cell_type": "markdown",
   "id": "51f94198-d16c-4ea8-af40-31572bd73fd1",
   "metadata": {
    "tags": []
   },
   "source": [
    "## Import libraries"
   ]
  },
  {
   "cell_type": "code",
   "execution_count": 1,
   "id": "ba772d2a-6dbb-4552-ace7-d3735aff89c6",
   "metadata": {},
   "outputs": [],
   "source": [
    "import pandas as pd\n",
    "import numpy as np\n",
    "import seaborn as sns\n",
    "import matplotlib.pyplot as plt\n",
    "\n",
    "import requests"
   ]
  },
  {
   "cell_type": "markdown",
   "id": "30d0d988-afdb-4bd2-bcbc-6ae554d6e1cd",
   "metadata": {},
   "source": [
    "## API URL"
   ]
  },
  {
   "cell_type": "code",
   "execution_count": 2,
   "id": "25a3f9eb-ee45-4822-b24c-462428e924f4",
   "metadata": {},
   "outputs": [],
   "source": [
    "url = 'https://api.pushshift.io/reddit/search/submission'"
   ]
  },
  {
   "cell_type": "code",
   "execution_count": 10,
   "id": "b33c97b5-8a0f-4669-a18f-b4b7256ba195",
   "metadata": {},
   "outputs": [],
   "source": [
    "def get_posts_batch(subreddit, before):\n",
    "    \n",
    "    url = 'https://api.pushshift.io/reddit/search/submission'\n",
    "    \n",
    "    params = {\n",
    "        'subreddit': subreddit,\n",
    "        'size': 100\n",
    "    }\n",
    "    if before is not None: \n",
    "        params['before'] = before\n",
    "        \n",
    "    res = requests.get(url, params)\n",
    "\n",
    "    return res.json()\n",
    "\n",
    "def posts_to_df(posts):\n",
    "    data = posts['data']\n",
    "    \n",
    "    df = pd.DataFrame(data)\n",
    "    return df[['subreddit', 'selftext', 'title', 'created_utc', 'id']]\n",
    "\n",
    "def get_posts(subreddit, num_posts):\n",
    "    \n",
    "    post_ids = set()\n",
    "    \n",
    "    before = None\n",
    "    \n",
    "    i = 0\n",
    "    \n",
    "    while len(post_ids) < num_posts:\n",
    "        batch = get_posts_batch(subreddit, before)\n",
    "        \n",
    "        df = posts_to_df(batch)\n",
    "        \n",
    "        before = df['created_utc'].min()\n",
    "        \n",
    "        post_ids.update(df['id'])\n",
    "        \n",
    "        if i == 0: \n",
    "            header = True\n",
    "            mode = 'w'\n",
    "        else: \n",
    "            header = False \n",
    "            mode = 'a'\n",
    "        df.to_csv(subreddit + '.csv', mode=mode, header=header, index=False)\n",
    "        print(f'We have scraped {len(post_ids)} posts.')\n",
    "        i += 1"
   ]
  },
  {
   "cell_type": "code",
   "execution_count": 14,
   "id": "38cc6b8c-fcd2-46cf-b2df-5f60a3a266a2",
   "metadata": {},
   "outputs": [
    {
     "name": "stdout",
     "output_type": "stream",
     "text": [
      "We have scraped 100 posts.\n",
      "We have scraped 200 posts.\n",
      "We have scraped 300 posts.\n",
      "We have scraped 400 posts.\n",
      "We have scraped 500 posts.\n",
      "We have scraped 600 posts.\n",
      "We have scraped 700 posts.\n",
      "We have scraped 800 posts.\n",
      "We have scraped 900 posts.\n",
      "We have scraped 1000 posts.\n",
      "We have scraped 1100 posts.\n",
      "We have scraped 1200 posts.\n",
      "We have scraped 1300 posts.\n",
      "We have scraped 1400 posts.\n",
      "We have scraped 1500 posts.\n",
      "We have scraped 1600 posts.\n",
      "We have scraped 1700 posts.\n",
      "We have scraped 1800 posts.\n",
      "We have scraped 1900 posts.\n",
      "We have scraped 2000 posts.\n",
      "We have scraped 2100 posts.\n",
      "We have scraped 2200 posts.\n",
      "We have scraped 2300 posts.\n",
      "We have scraped 2400 posts.\n",
      "We have scraped 2500 posts.\n",
      "We have scraped 2600 posts.\n",
      "We have scraped 2700 posts.\n",
      "We have scraped 2800 posts.\n",
      "We have scraped 2900 posts.\n",
      "We have scraped 3000 posts.\n",
      "We have scraped 3100 posts.\n",
      "We have scraped 3200 posts.\n",
      "We have scraped 3300 posts.\n",
      "We have scraped 3400 posts.\n",
      "We have scraped 3500 posts.\n",
      "We have scraped 3600 posts.\n",
      "We have scraped 3700 posts.\n",
      "We have scraped 3799 posts.\n",
      "We have scraped 3899 posts.\n",
      "We have scraped 3999 posts.\n",
      "We have scraped 4099 posts.\n",
      "We have scraped 4199 posts.\n",
      "We have scraped 4299 posts.\n",
      "We have scraped 4399 posts.\n",
      "We have scraped 4499 posts.\n",
      "We have scraped 4599 posts.\n",
      "We have scraped 4699 posts.\n",
      "We have scraped 4799 posts.\n",
      "We have scraped 4899 posts.\n",
      "We have scraped 4999 posts.\n",
      "We have scraped 5099 posts.\n"
     ]
    }
   ],
   "source": [
    "get_posts('Music', 5000)"
   ]
  },
  {
   "cell_type": "code",
   "execution_count": 15,
   "id": "7675037a-c50d-431e-b68e-c953d16dcf34",
   "metadata": {},
   "outputs": [
    {
     "data": {
      "text/html": [
       "<div>\n",
       "<style scoped>\n",
       "    .dataframe tbody tr th:only-of-type {\n",
       "        vertical-align: middle;\n",
       "    }\n",
       "\n",
       "    .dataframe tbody tr th {\n",
       "        vertical-align: top;\n",
       "    }\n",
       "\n",
       "    .dataframe thead th {\n",
       "        text-align: right;\n",
       "    }\n",
       "</style>\n",
       "<table border=\"1\" class=\"dataframe\">\n",
       "  <thead>\n",
       "    <tr style=\"text-align: right;\">\n",
       "      <th></th>\n",
       "      <th>subreddit</th>\n",
       "      <th>selftext</th>\n",
       "      <th>title</th>\n",
       "      <th>created_utc</th>\n",
       "      <th>id</th>\n",
       "    </tr>\n",
       "  </thead>\n",
       "  <tbody>\n",
       "    <tr>\n",
       "      <th>0</th>\n",
       "      <td>Music</td>\n",
       "      <td>[removed]</td>\n",
       "      <td>What songs have you ignored some kind of backi...</td>\n",
       "      <td>1651959678</td>\n",
       "      <td>ukn37n</td>\n",
       "    </tr>\n",
       "    <tr>\n",
       "      <th>1</th>\n",
       "      <td>Music</td>\n",
       "      <td>[removed]</td>\n",
       "      <td>What songs have you unknowingly ignored some b...</td>\n",
       "      <td>1651959604</td>\n",
       "      <td>ukn2bv</td>\n",
       "    </tr>\n",
       "    <tr>\n",
       "      <th>2</th>\n",
       "      <td>Music</td>\n",
       "      <td>[removed]</td>\n",
       "      <td>Any songs you didn’t notice the bass on and th...</td>\n",
       "      <td>1651959495</td>\n",
       "      <td>ukn152</td>\n",
       "    </tr>\n",
       "  </tbody>\n",
       "</table>\n",
       "</div>"
      ],
      "text/plain": [
       "  subreddit   selftext                                              title  \\\n",
       "0     Music  [removed]  What songs have you ignored some kind of backi...   \n",
       "1     Music  [removed]  What songs have you unknowingly ignored some b...   \n",
       "2     Music  [removed]  Any songs you didn’t notice the bass on and th...   \n",
       "\n",
       "   created_utc      id  \n",
       "0   1651959678  ukn37n  \n",
       "1   1651959604  ukn2bv  \n",
       "2   1651959495  ukn152  "
      ]
     },
     "execution_count": 15,
     "metadata": {},
     "output_type": "execute_result"
    }
   ],
   "source": [
    "music = pd.read_csv('./Music.csv')\n",
    "music.head(3)"
   ]
  },
  {
   "cell_type": "code",
   "execution_count": 16,
   "id": "96461195-f30f-4d4e-a46d-5383d5909ee9",
   "metadata": {},
   "outputs": [
    {
     "data": {
      "text/html": [
       "<div>\n",
       "<style scoped>\n",
       "    .dataframe tbody tr th:only-of-type {\n",
       "        vertical-align: middle;\n",
       "    }\n",
       "\n",
       "    .dataframe tbody tr th {\n",
       "        vertical-align: top;\n",
       "    }\n",
       "\n",
       "    .dataframe thead th {\n",
       "        text-align: right;\n",
       "    }\n",
       "</style>\n",
       "<table border=\"1\" class=\"dataframe\">\n",
       "  <thead>\n",
       "    <tr style=\"text-align: right;\">\n",
       "      <th></th>\n",
       "      <th>subreddit</th>\n",
       "      <th>selftext</th>\n",
       "      <th>title</th>\n",
       "      <th>created_utc</th>\n",
       "      <th>id</th>\n",
       "    </tr>\n",
       "  </thead>\n",
       "  <tbody>\n",
       "    <tr>\n",
       "      <th>5096</th>\n",
       "      <td>Music</td>\n",
       "      <td>[removed]</td>\n",
       "      <td>test</td>\n",
       "      <td>1651207069</td>\n",
       "      <td>uee18l</td>\n",
       "    </tr>\n",
       "    <tr>\n",
       "      <th>5097</th>\n",
       "      <td>Music</td>\n",
       "      <td>NaN</td>\n",
       "      <td>Adam Oh — Money in Me [Hip-Hop/Rap] (2022)</td>\n",
       "      <td>1651206882</td>\n",
       "      <td>uedzdj</td>\n",
       "    </tr>\n",
       "    <tr>\n",
       "      <th>5098</th>\n",
       "      <td>Music</td>\n",
       "      <td>[removed]</td>\n",
       "      <td>what are songs you consider perfect?</td>\n",
       "      <td>1651206848</td>\n",
       "      <td>uedz0v</td>\n",
       "    </tr>\n",
       "  </tbody>\n",
       "</table>\n",
       "</div>"
      ],
      "text/plain": [
       "     subreddit   selftext                                       title  \\\n",
       "5096     Music  [removed]                                        test   \n",
       "5097     Music        NaN  Adam Oh — Money in Me [Hip-Hop/Rap] (2022)   \n",
       "5098     Music  [removed]        what are songs you consider perfect?   \n",
       "\n",
       "      created_utc      id  \n",
       "5096   1651207069  uee18l  \n",
       "5097   1651206882  uedzdj  \n",
       "5098   1651206848  uedz0v  "
      ]
     },
     "execution_count": 16,
     "metadata": {},
     "output_type": "execute_result"
    }
   ],
   "source": [
    "music.tail(3)"
   ]
  },
  {
   "cell_type": "code",
   "execution_count": 17,
   "id": "5569b84e-d94f-4911-a9fc-d24d5471418f",
   "metadata": {},
   "outputs": [
    {
     "data": {
      "text/plain": [
       "0"
      ]
     },
     "execution_count": 17,
     "metadata": {},
     "output_type": "execute_result"
    }
   ],
   "source": [
    "music['id'].duplicated().sum()"
   ]
  },
  {
   "cell_type": "code",
   "execution_count": 18,
   "id": "76bdaefc-4ec1-441b-abfe-ff545d997760",
   "metadata": {},
   "outputs": [
    {
     "name": "stdout",
     "output_type": "stream",
     "text": [
      "We have scraped 100 posts.\n",
      "We have scraped 200 posts.\n",
      "We have scraped 300 posts.\n",
      "We have scraped 400 posts.\n",
      "We have scraped 500 posts.\n",
      "We have scraped 600 posts.\n",
      "We have scraped 700 posts.\n",
      "We have scraped 800 posts.\n",
      "We have scraped 900 posts.\n",
      "We have scraped 1000 posts.\n",
      "We have scraped 1100 posts.\n",
      "We have scraped 1200 posts.\n",
      "We have scraped 1300 posts.\n",
      "We have scraped 1400 posts.\n",
      "We have scraped 1500 posts.\n",
      "We have scraped 1600 posts.\n",
      "We have scraped 1700 posts.\n",
      "We have scraped 1800 posts.\n",
      "We have scraped 1900 posts.\n",
      "We have scraped 2000 posts.\n",
      "We have scraped 2100 posts.\n",
      "We have scraped 2200 posts.\n",
      "We have scraped 2300 posts.\n",
      "We have scraped 2400 posts.\n",
      "We have scraped 2500 posts.\n",
      "We have scraped 2600 posts.\n",
      "We have scraped 2700 posts.\n",
      "We have scraped 2800 posts.\n",
      "We have scraped 2900 posts.\n",
      "We have scraped 3000 posts.\n",
      "We have scraped 3100 posts.\n",
      "We have scraped 3200 posts.\n",
      "We have scraped 3300 posts.\n",
      "We have scraped 3400 posts.\n",
      "We have scraped 3500 posts.\n",
      "We have scraped 3600 posts.\n",
      "We have scraped 3700 posts.\n",
      "We have scraped 3800 posts.\n",
      "We have scraped 3900 posts.\n",
      "We have scraped 4000 posts.\n",
      "We have scraped 4100 posts.\n",
      "We have scraped 4200 posts.\n",
      "We have scraped 4300 posts.\n",
      "We have scraped 4400 posts.\n",
      "We have scraped 4500 posts.\n",
      "We have scraped 4600 posts.\n",
      "We have scraped 4700 posts.\n",
      "We have scraped 4800 posts.\n",
      "We have scraped 4899 posts.\n",
      "We have scraped 4999 posts.\n",
      "We have scraped 5099 posts.\n"
     ]
    }
   ],
   "source": [
    "get_posts('vinyl', 5000)"
   ]
  },
  {
   "cell_type": "code",
   "execution_count": 19,
   "id": "e6dbc1ad-289b-4ade-960f-7d5f56ee22b7",
   "metadata": {},
   "outputs": [
    {
     "data": {
      "text/html": [
       "<div>\n",
       "<style scoped>\n",
       "    .dataframe tbody tr th:only-of-type {\n",
       "        vertical-align: middle;\n",
       "    }\n",
       "\n",
       "    .dataframe tbody tr th {\n",
       "        vertical-align: top;\n",
       "    }\n",
       "\n",
       "    .dataframe thead th {\n",
       "        text-align: right;\n",
       "    }\n",
       "</style>\n",
       "<table border=\"1\" class=\"dataframe\">\n",
       "  <thead>\n",
       "    <tr style=\"text-align: right;\">\n",
       "      <th></th>\n",
       "      <th>subreddit</th>\n",
       "      <th>selftext</th>\n",
       "      <th>title</th>\n",
       "      <th>created_utc</th>\n",
       "      <th>id</th>\n",
       "    </tr>\n",
       "  </thead>\n",
       "  <tbody>\n",
       "    <tr>\n",
       "      <th>0</th>\n",
       "      <td>vinyl</td>\n",
       "      <td>NaN</td>\n",
       "      <td>Big Star-adjacent Saturday.</td>\n",
       "      <td>1651959122</td>\n",
       "      <td>ukmwwr</td>\n",
       "    </tr>\n",
       "    <tr>\n",
       "      <th>1</th>\n",
       "      <td>vinyl</td>\n",
       "      <td>NaN</td>\n",
       "      <td>The Cinematic Orchestra - Ma Fleur (released 1...</td>\n",
       "      <td>1651958798</td>\n",
       "      <td>ukmt5l</td>\n",
       "    </tr>\n",
       "    <tr>\n",
       "      <th>2</th>\n",
       "      <td>vinyl</td>\n",
       "      <td>On 7th May 2007, The Cinematic Orchestra relea...</td>\n",
       "      <td>The Cinematic Orchestra - Ma Fleur (15 years o...</td>\n",
       "      <td>1651958711</td>\n",
       "      <td>ukms5q</td>\n",
       "    </tr>\n",
       "  </tbody>\n",
       "</table>\n",
       "</div>"
      ],
      "text/plain": [
       "  subreddit                                           selftext  \\\n",
       "0     vinyl                                                NaN   \n",
       "1     vinyl                                                NaN   \n",
       "2     vinyl  On 7th May 2007, The Cinematic Orchestra relea...   \n",
       "\n",
       "                                               title  created_utc      id  \n",
       "0                        Big Star-adjacent Saturday.   1651959122  ukmwwr  \n",
       "1  The Cinematic Orchestra - Ma Fleur (released 1...   1651958798  ukmt5l  \n",
       "2  The Cinematic Orchestra - Ma Fleur (15 years o...   1651958711  ukms5q  "
      ]
     },
     "execution_count": 19,
     "metadata": {},
     "output_type": "execute_result"
    }
   ],
   "source": [
    "vinyl = pd.read_csv('./vinyl.csv')\n",
    "vinyl.head(3)"
   ]
  },
  {
   "cell_type": "code",
   "execution_count": 20,
   "id": "43633d96-ee34-4c84-a88d-dfe1248696c5",
   "metadata": {},
   "outputs": [
    {
     "data": {
      "text/html": [
       "<div>\n",
       "<style scoped>\n",
       "    .dataframe tbody tr th:only-of-type {\n",
       "        vertical-align: middle;\n",
       "    }\n",
       "\n",
       "    .dataframe tbody tr th {\n",
       "        vertical-align: top;\n",
       "    }\n",
       "\n",
       "    .dataframe thead th {\n",
       "        text-align: right;\n",
       "    }\n",
       "</style>\n",
       "<table border=\"1\" class=\"dataframe\">\n",
       "  <thead>\n",
       "    <tr style=\"text-align: right;\">\n",
       "      <th></th>\n",
       "      <th>subreddit</th>\n",
       "      <th>selftext</th>\n",
       "      <th>title</th>\n",
       "      <th>created_utc</th>\n",
       "      <th>id</th>\n",
       "    </tr>\n",
       "  </thead>\n",
       "  <tbody>\n",
       "    <tr>\n",
       "      <th>5096</th>\n",
       "      <td>vinyl</td>\n",
       "      <td>NaN</td>\n",
       "      <td>Spending the afternoon cleaning house with Lil...</td>\n",
       "      <td>1648321075</td>\n",
       "      <td>tp09pu</td>\n",
       "    </tr>\n",
       "    <tr>\n",
       "      <th>5097</th>\n",
       "      <td>vinyl</td>\n",
       "      <td>NaN</td>\n",
       "      <td>Inside llewyn Davis</td>\n",
       "      <td>1648319710</td>\n",
       "      <td>toztc0</td>\n",
       "    </tr>\n",
       "    <tr>\n",
       "      <th>5098</th>\n",
       "      <td>vinyl</td>\n",
       "      <td>NaN</td>\n",
       "      <td>On the Table: The Pretenders - \"Learning to Cr...</td>\n",
       "      <td>1648319653</td>\n",
       "      <td>tozspj</td>\n",
       "    </tr>\n",
       "  </tbody>\n",
       "</table>\n",
       "</div>"
      ],
      "text/plain": [
       "     subreddit selftext                                              title  \\\n",
       "5096     vinyl      NaN  Spending the afternoon cleaning house with Lil...   \n",
       "5097     vinyl      NaN                                Inside llewyn Davis   \n",
       "5098     vinyl      NaN  On the Table: The Pretenders - \"Learning to Cr...   \n",
       "\n",
       "      created_utc      id  \n",
       "5096   1648321075  tp09pu  \n",
       "5097   1648319710  toztc0  \n",
       "5098   1648319653  tozspj  "
      ]
     },
     "execution_count": 20,
     "metadata": {},
     "output_type": "execute_result"
    }
   ],
   "source": [
    "vinyl.tail(3)"
   ]
  },
  {
   "cell_type": "code",
   "execution_count": 21,
   "id": "b97c277e-749c-48ce-be4f-b75086b84736",
   "metadata": {},
   "outputs": [
    {
     "data": {
      "text/plain": [
       "0"
      ]
     },
     "execution_count": 21,
     "metadata": {},
     "output_type": "execute_result"
    }
   ],
   "source": [
    "vinyl['id'].duplicated().sum()"
   ]
  },
  {
   "cell_type": "markdown",
   "id": "8d6f8ae9-c8e4-4e4f-95a5-a664c82c36b9",
   "metadata": {},
   "source": [
    "## EDA"
   ]
  },
  {
   "cell_type": "code",
   "execution_count": null,
   "id": "efe9b83a-b447-4c7a-a609-6a3caa04d2f4",
   "metadata": {},
   "outputs": [],
   "source": []
  },
  {
   "cell_type": "markdown",
   "id": "e196f94c-9831-4fb1-b799-6d8877611f4a",
   "metadata": {},
   "source": [
    "## Modeling: Random Forest Classifier"
   ]
  },
  {
   "cell_type": "markdown",
   "id": "5c6cdf95-be01-488d-83f9-1374c04827e5",
   "metadata": {},
   "source": [
    "## Modeling: Logistic Regression"
   ]
  },
  {
   "cell_type": "markdown",
   "id": "7aea8f64-c4c6-40a1-ab1e-6e797e4c93ee",
   "metadata": {},
   "source": [
    "## Evaluation "
   ]
  },
  {
   "cell_type": "code",
   "execution_count": null,
   "id": "24a34b82-3e2e-4fed-92e9-b019999bb74a",
   "metadata": {},
   "outputs": [],
   "source": []
  }
 ],
 "metadata": {
  "kernelspec": {
   "display_name": "Python 3 (ipykernel)",
   "language": "python",
   "name": "python3"
  },
  "language_info": {
   "codemirror_mode": {
    "name": "ipython",
    "version": 3
   },
   "file_extension": ".py",
   "mimetype": "text/x-python",
   "name": "python",
   "nbconvert_exporter": "python",
   "pygments_lexer": "ipython3",
   "version": "3.9.7"
  }
 },
 "nbformat": 4,
 "nbformat_minor": 5
}
